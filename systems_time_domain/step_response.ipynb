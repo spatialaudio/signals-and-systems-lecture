{
 "cells": [
  {
   "cell_type": "markdown",
   "metadata": {
    "nbsphinx": "hidden"
   },
   "source": [
    "# Characterization of Systems in the Time Domain\n",
    "\n",
    "*This Jupyter notebook is part of a [collection of notebooks](../index.ipynb) in the bachelors module Signals and Systems, Communications Engineering, Universität Rostock. Please direct questions and suggestions to [Sascha.Spors@uni-rostock.de](mailto:Sascha.Spors@uni-rostock.de).*"
   ]
  },
  {
   "cell_type": "markdown",
   "metadata": {},
   "source": [
    "## Step Response\n",
    "\n",
    "The response of an LTI system to the [Heaviside signal](../continuous_signals/standard_signals.ipynb#Heaviside-Signal) $\\epsilon(t)$ at its input is known as [*step response*](https://en.wikipedia.org/wiki/Step_response). It is defined as\n",
    "\n",
    "\\begin{equation}\n",
    "h_\\epsilon(t) = \\mathcal{H} \\{ \\epsilon(t) \\}\n",
    "\\end{equation}\n",
    "\n",
    "The step response characterizes the properties of a system when the input signal is 'switched on' at $t=0$. It can be related to the impulse response $h(t)$ of the system by\n",
    "\n",
    "\\begin{equation}\n",
    "h_\\epsilon(t) = \\epsilon(t) * h(t) = \\int_{-\\infty}^{t} h(\\tau) \\; d\\tau\n",
    "\\end{equation}\n",
    "\n",
    "The last equality can be deduced for instance by [graphical interpretation of the convolution](convolution.ipynb#Graphical-Interpretation). As the inverse operation to above integral is the derivative, this implies that the impulse response is the derivative of the step response\n",
    "\n",
    "\\begin{equation}\n",
    "h(t) = \\frac{d h_\\epsilon(t)}{dt}\n",
    "\\end{equation}\n",
    "\n",
    "Using this result together with the properties of the convolution for derivatives, the output signal $y(t) = \\mathcal{H} \\{ x(t) \\}$ in terms of the step response reads\n",
    "\n",
    "\\begin{equation}\n",
    "y(t) = x(t) * \\frac{d h_\\epsilon(t)}{dt} = \\frac{d x(t)}{dt} * h_\\epsilon(t)\n",
    "\\end{equation}\n",
    "\n",
    "The output signal of an LTI system is given by convolving the derivative of the input signal with the step response.\n",
    "\n",
    "The step response is an alternative to characterize the properties of an LTI system since a Dirac impulse cannot be realized in practice. It plays an important role in the theory of [control systems](https://en.wikipedia.org/wiki/Control_system)."
   ]
  },
  {
   "cell_type": "markdown",
   "metadata": {
    "nbsphinx": "hidden"
   },
   "source": [
    "**Copyright**\n",
    "\n",
    "The notebooks are provided as [Open Educational Resource](https://de.wikipedia.org/wiki/Open_Educational_Resources). Feel free to use the notebooks for your own educational purposes. The text is licensed under [Creative Commons Attribution 4.0](https://creativecommons.org/licenses/by/4.0/), the code of the IPython examples under the [MIT license](https://opensource.org/licenses/MIT). Please attribute the work as follows: *Lecture Notes on Signals and Systems* by Sascha Spors."
   ]
  }
 ],
 "metadata": {
  "kernelspec": {
   "display_name": "Python 3",
   "language": "python",
   "name": "python3"
  },
  "language_info": {
   "codemirror_mode": {
    "name": "ipython",
    "version": 3
   },
   "file_extension": ".py",
   "mimetype": "text/x-python",
   "name": "python",
   "nbconvert_exporter": "python",
   "pygments_lexer": "ipython3",
   "version": "3.7.2"
  }
 },
 "nbformat": 4,
 "nbformat_minor": 1
}
