{
 "cells": [
  {
   "cell_type": "markdown",
   "metadata": {
    "nbsphinx": "hidden"
   },
   "source": [
    "# Characterization of Discrete Systems in the Spectral Domain\n",
    "\n",
    "*This Jupyter notebook is part of a [collection of notebooks](../index.ipynb) in the bachelors module Signals and Systems, Communications Engineering, Universität Rostock. Please direct questions and suggestions to [Sascha.Spors@uni-rostock.de](mailto:Sascha.Spors@uni-rostock.de).*"
   ]
  },
  {
   "cell_type": "markdown",
   "metadata": {},
   "source": [
    "## Phase and Group Delay\n",
    "\n",
    "The [phase and group delay](https://en.wikipedia.org/wiki/Group_delay_and_phase_delay) characterize the phase and delay properties of an linear time-invariant (LTI) system. Both quantify the frequency dependent delay that is imprinted on a signal when passing through a system. In many applications the delay introduced by a system should be as small as possible or within reasonable limits."
   ]
  },
  {
   "cell_type": "markdown",
   "metadata": {},
   "source": [
    "### Phase Delay\n",
    "\n",
    "For an LTI system with transfer function $H(e^{j \\Omega})$ the phase delay in samples is defined as follows\n",
    "\n",
    "\\begin{equation}\n",
    "t_p(\\Omega) = - \\frac{\\varphi(e^{j \\Omega})}{\\Omega}\n",
    "\\end{equation}\n",
    "\n",
    "where $\\varphi(e^{j \\Omega}) = \\arg \\{ H(e^{j \\Omega}) \\}$ denotes the phase of the transfer function. The phase delay quantifies the delay of a single harmonic exponential signal $e^{j \\Omega k}$ with normalized frequency $\\Omega$ when passing through the system. The negative sign in the definition of the phase delay results in a positive phase delay $t_p(\\Omega) > 0$ when a signal is delayed by a system. Note, the phase delay may not be defined for $\\Omega = 0$."
   ]
  },
  {
   "cell_type": "markdown",
   "metadata": {},
   "source": [
    "**Example - Phase delay of second-order recursive system**\n",
    "\n",
    "The phase delay $t_p(\\Omega)$ for the before introduced [second-order recursive LTI system](difference_equation.ipynb#Second-Order-System) with transfer function\n",
    "\n",
    "\\begin{equation}\n",
    "H(z) = \\frac{1}{1 - z^{-1} + \\frac{1}{2} z^{-2}}\n",
    "\\end{equation}\n",
    "\n",
    "is computed. First the transfer function is defined"
   ]
  },
  {
   "cell_type": "code",
   "execution_count": null,
   "metadata": {},
   "outputs": [],
   "source": [
    "import sympy as sym\n",
    "sym.init_printing()\n",
    "%matplotlib inline\n",
    "\n",
    "z = sym.symbols('z', complex=True)\n",
    "W = sym.symbols('Omega', real=True)\n",
    "H = 1 / (1 - z**(-1) + sym.Rational(1, 2)*z**(-2))\n",
    "H"
   ]
  },
  {
   "cell_type": "markdown",
   "metadata": {},
   "source": [
    "Now the phase delay $t_p(\\Omega)$ is computed and plotted for illustration"
   ]
  },
  {
   "cell_type": "code",
   "execution_count": null,
   "metadata": {},
   "outputs": [],
   "source": [
    "phi = sym.arg(H.subs(z, sym.exp(sym.I*W)))\n",
    "tp = -phi/W\n",
    "\n",
    "sym.plot(tp, (W, -sym.pi, sym.pi), xlabel='$\\Omega$', ylabel='$t_p(\\Omega)$ in Samples')"
   ]
  },
  {
   "cell_type": "markdown",
   "metadata": {},
   "source": [
    "### Group Delay\n",
    "\n",
    "The group delay is defined as the derivative of the phase with respect to the normalized frequency\n",
    "\n",
    "\\begin{equation}\n",
    "t_g(\\Omega) = - \\frac{\\mathrm{d} \\varphi(e^{j \\Omega})}{\\mathrm{d} \\Omega}\n",
    "\\end{equation}\n",
    "\n",
    "given in samples.\n",
    "\n",
    "The group delay quantifies the delay the amplitude envelope of a group of exponential signals observes when passing through a system. The negative sign in above definition results in a positive group delay for a system imposing a delay onto the input signal. Note that the [phase](https://en.wikipedia.org/wiki/Instantaneous_phase) $\\varphi(e^{j \\Omega})$ is in general only unique for $- \\pi < \\varphi(e^{j \\Omega}) \\leq \\pi$. If the phase exceeds this range it is wrapped back. For meaningful results it is required to unwrap the phase before computing the group delay."
   ]
  },
  {
   "cell_type": "markdown",
   "metadata": {},
   "source": [
    "**Example - Phase delay of second-order recursive system**\n",
    "\n",
    "The group delay $t_g(\\Omega)$ of above second-order recursive system is computed and plotted"
   ]
  },
  {
   "cell_type": "code",
   "execution_count": null,
   "metadata": {},
   "outputs": [],
   "source": [
    "tg = - sym.diff(phi, W)\n",
    "sym.plot(tg, (W, -sym.pi, sym.pi), xlabel='$\\Omega$', ylabel='$t_g(\\Omega)$ in Samples')"
   ]
  },
  {
   "cell_type": "markdown",
   "metadata": {
    "nbsphinx": "hidden"
   },
   "source": [
    "**Copyright**\n",
    "\n",
    "The notebooks are provided as [Open Educational Resource](https://de.wikipedia.org/wiki/Open_Educational_Resources). Feel free to use the notebooks for your own educational purposes. The text is licensed under [Creative Commons Attribution 4.0](https://creativecommons.org/licenses/by/4.0/), the code of the IPython examples under the [MIT license](https://opensource.org/licenses/MIT). Please attribute the work as follows: *Lecture Notes on Signals and Systems* by Sascha Spors."
   ]
  }
 ],
 "metadata": {
  "kernelspec": {
   "display_name": "Python 3",
   "language": "python",
   "name": "python3"
  },
  "language_info": {
   "codemirror_mode": {
    "name": "ipython",
    "version": 3
   },
   "file_extension": ".py",
   "mimetype": "text/x-python",
   "name": "python",
   "nbconvert_exporter": "python",
   "pygments_lexer": "ipython3",
   "version": "3.7.2"
  }
 },
 "nbformat": 4,
 "nbformat_minor": 1
}
