{
 "cells": [
  {
   "cell_type": "markdown",
   "metadata": {
    "nbsphinx": "hidden"
   },
   "source": [
    "# Characterization of Discrete Systems in the Spectral Domain\n",
    "\n",
    "*This Jupyter notebook is part of a [collection of notebooks](../index.ipynb) in the bachelors module Signals and Systems, Communications Engineering, Universität Rostock. Please direct questions and suggestions to [Sascha.Spors@uni-rostock.de](mailto:Sascha.Spors@uni-rostock.de).*"
   ]
  },
  {
   "cell_type": "markdown",
   "metadata": {},
   "source": [
    "## Magnitude and Phase\n",
    "\n",
    "The discrete-time Fourier domain transfer function $H(e^{j \\Omega})$ characterizes the transmission properties of a linear time-invariant (LTI) system with respect to an [harmonic exponential signal](../discrete_signals/standard_signals.ipynb#Complex-Exponential-Signal) $e^{j \\Omega k}$ with normalized frequency $\\Omega$. In order to investigate the characteristics of an LTI system, often the magnitude $| H(e^{j \\Omega}) |$ and phase $\\varphi_H(e^{j \\Omega})$ of the transfer function are regarded separately. Decomposing the output signal $Y(e^{j \\Omega}) = X(e^{j \\Omega}) \\cdot H(e^{j \\Omega})$ into its magnitude $| Y(e^{j \\Omega}) |$ and phase $\\varphi_Y(e^{j \\Omega})$ yields\n",
    "\n",
    "\\begin{align}\n",
    "| Y(e^{j \\Omega}) | &= | X(e^{j \\Omega}) | \\cdot | H(e^{j \\Omega}) | \\\\\n",
    "\\varphi_Y(e^{j \\Omega}) &= \\varphi_X(e^{j \\Omega}) + \\varphi_H(e^{j \\Omega})\n",
    "\\end{align}\n",
    "\n",
    "where $X(e^{j \\Omega})$ denotes the input signal, and $| X(e^{j \\Omega}) |$ and $\\varphi_X(e^{j \\Omega})$ its magnitude and phase, respectively. It can be concluded, that the magnitude $| H(e^{j \\Omega}) |$ quantifies the frequency-dependent attenuation of the magnitude $| X(e^{j \\Omega}) |$ of the input signal by the system, while $\\varphi_H(e^{j \\Omega})$ quantifies the introduced phase-shift. \n",
    "\n",
    "A rational transfer function $H(z)$ which is composed from polynomials in $z^{-1}$ can be expressed [in terms of its poles and zeros](../z_transform/definition.ipynb#Representation). Applying this representation to the transfer function $H(e^{j \\Omega})$ in the discrete-time Fourier domain yields\n",
    "\n",
    "\\begin{equation}\n",
    "H(e^{j \\Omega}) = K \\cdot \\frac{\\prod_{\\mu=0}^{Q} (e^{j \\Omega} - z_{0 \\mu})}{\\prod_{\\nu=0}^{P} (e^{j \\Omega} - z_{\\infty \\nu})}\n",
    "\\end{equation}\n",
    "\n",
    "where $z_{0 \\mu}$ and $z_{\\infty \\nu}$ denote the $\\mu$-th zero and $\\nu$-th pole of $H(z)$, and $Q$ and $P$ the total number of zeros and poles, respectively. Often the logarithmic magnitude of the transfer function $20 \\log_{10} | H(e^{j \\Omega}) |$ in [decibels](https://en.wikipedia.org/wiki/Decibel) (dB) is considered. The representation of amplitudes in dB is beneficial due to its clear coverage of wide amplitude ranges and convenient calculus for scaled amplitudes. Using the representation of the transfer function with respect to its poles and zeros yields for the logarithm of the magnitude and the phase\n",
    "\n",
    "\\begin{align}\n",
    "\\log_{10} | H(e^{j \\Omega}) | &= \\sum_{\\mu=0}^{Q} \\log_{10} |e^{j \\Omega} - z_{0 \\mu}| - \\sum_{\\nu=0}^{P} \\log_{10} |e^{j \\Omega} - z_{\\infty \\nu}| + \\log_{10} |K|   \\\\\n",
    "\\varphi_H(e^{j \\Omega}) &= \\sum_{\\mu=0}^{Q} \\arg (e^{j \\Omega} - z_{0 \\mu}) - \\sum_{\\nu=0}^{P} \\arg (e^{j \\Omega} - z_{\\infty \\nu})\n",
    "\\end{align}\n",
    "\n",
    "where $\\arg(\\cdot)$ denotes the [argument](https://en.wikipedia.org/wiki/Argument_%28complex_analysis%29) (phase) of a complex function. It can be concluded, that the individual contributions of the poles and zeros to the logarithm of the magnitude and phase can be superimposed. This fact may be exploited to estimate the frequency and phase response of discrete-time systems by considering the influence of individual poles and zeros. This is discussed in the following for a system composed from one pole and one zero ($P=Q=0$).\n",
    "\n",
    "![Influence of individual poles and zeros on the magnitude and phase response of a discrete system.](influence_pole_zero.png)\n",
    "\n",
    "The magnitude of the transfer function depends on the ratio of Euclidean distances from the pole and zero to the position $e^{j \\Omega}$ on the unit circle $|z| = 1$. Small distances, e.g. a pole or zero close to the unit circle, lead to large negative values of the individual summands in the logarithmic magnitude response, e.g. $\\log_{10} |e^{j \\Omega} - z_{0 \\mu}|$. This holds especially for normalized frequencies $\\Omega$ in the proximity of the pole/zero. It can be concluded that\n",
    "\n",
    "* a pole close to the unit circle results in a resonance (e.g. maximum), and\n",
    "* a zero close to the unit circle results in a notch/anti-resonance (e.g. minimum)\n",
    "\n",
    "in the magnitude response. The normalized frequency $\\Omega$ of this maximum/minimum is given by the argument of the pole $\\arg \\{ z_{\\infty \\mu} \\}$ and zero $\\arg\\{ z_{0 \\mu} \\}$, respectively."
   ]
  },
  {
   "cell_type": "markdown",
   "metadata": {},
   "source": [
    "**Example - Second order system**\n",
    "\n",
    "The magnitude response of a real-valued second-order LTI system with the specific transfer function\n",
    "\n",
    "\\begin{equation}\n",
    "H(e^{j \\Omega}) = \\frac{(e^{j \\Omega} - z_0)(e^{j \\Omega} - z_0^*)}{(e^{j \\Omega} - z_\\infty)(e^{j \\Omega} - z_\\infty^*)}\n",
    "\\end{equation}\n",
    "\n",
    "is considered. It is convenient to represent the pole/zero by its magnitude and phase in order to illustrate its location relative to the unit circle\n",
    "\n",
    "\\begin{align}\n",
    "z_0 &= r_0 e^{j \\Omega_0}  &\\text{with } \\quad &r_0 = 0.8 & \\Omega_0 = \\frac{\\pi}{2} \\\\\n",
    "z_\\infty  &= r_\\infty e^{j \\Omega_\\infty} & &r_\\infty = 0.95 & \\Omega_\\infty = \\frac{\\pi}{4}\n",
    "\\end{align}\n",
    "\n",
    "where for instance $r_0 = |z_0|$ and $\\Omega_0 = \\arg \\{ z_0 \\}$. First the contribution of the pair of complex conjugate zeros $z_0$ and $z_0^*$ to the logarithmic magnitude of the transfer function $H(e^{j \\Omega})$ is computed and plotted over the normalized frequency $\\Omega$."
   ]
  },
  {
   "cell_type": "code",
   "execution_count": null,
   "metadata": {},
   "outputs": [],
   "source": [
    "import sympy as sym\n",
    "%matplotlib inline\n",
    "sym.init_printing()\n",
    "\n",
    "\n",
    "def db(x):\n",
    "    'compute dB value'\n",
    "    return 20 * sym.log(sym.Abs(x), 10)\n",
    "\n",
    "\n",
    "W = sym.symbols('Omega', real=True)\n",
    "z_0 = 0.8 * sym.exp(sym.I * sym.pi/2)\n",
    "\n",
    "H1 = (sym.exp(sym.I * W) - z_0)*(sym.exp(sym.I * W) - sym.conjugate(z_0))\n",
    "Hlog1 = db(H1)\n",
    "sym.plot(Hlog1, (W, 0, sym.pi), xlabel='$\\Omega$',\n",
    "         ylabel='$|H_0(e^{j \\Omega})|$ in dB')"
   ]
  },
  {
   "cell_type": "markdown",
   "metadata": {},
   "source": [
    "Now the contribution of the pair of complex conjugate poles $z_\\infty$ and $z_\\infty^*$ is computed and plotted"
   ]
  },
  {
   "cell_type": "code",
   "execution_count": null,
   "metadata": {},
   "outputs": [],
   "source": [
    "z_inf = 0.95 * sym.exp(sym.I * sym.pi/4)\n",
    "\n",
    "H2 = 1/((sym.exp(sym.I * W) - z_inf)*(sym.exp(sym.I * W) - sym.conjugate(z_inf)))\n",
    "Hlog2 = db(H2)\n",
    "sym.plot(Hlog2, (W, 0, sym.pi), xlabel='$\\Omega$',\n",
    "         ylabel='$|H_\\infty(e^{j \\Omega})|$ in dB')"
   ]
  },
  {
   "cell_type": "markdown",
   "metadata": {},
   "source": [
    "The logarithmic magnitude response of the system is given by superposition of the individual contributions from the zeros and the poles"
   ]
  },
  {
   "cell_type": "code",
   "execution_count": null,
   "metadata": {},
   "outputs": [],
   "source": [
    "Hlog = Hlog1 + Hlog2\n",
    "sym.plot(Hlog, (W, 0, sym.pi), xlabel='$\\Omega$',\n",
    "         ylabel='$|H(e^{j \\Omega})|$ in dB')"
   ]
  },
  {
   "cell_type": "markdown",
   "metadata": {},
   "source": [
    "**Exercise**\n",
    "\n",
    "* Why is the system real valued?\n",
    "* Examine the magnitude response of the system. How is it related to the magnitude responses of the individual zeros/poles?\n",
    "* Move the poles and/or zeros closer to the unit circle by changing the values $r_\\infty$ and/or $r_0$. What influence does this have on the magnitude response?\n",
    "* Change the phase of the pole and/or zero by changing the values $\\Omega_\\infty$ and/or $\\Omega_0$. What influence does this have on the magnitude response?"
   ]
  },
  {
   "cell_type": "markdown",
   "metadata": {
    "nbsphinx": "hidden"
   },
   "source": [
    "**Copyright**\n",
    "\n",
    "The notebooks are provided as [Open Educational Resource](https://de.wikipedia.org/wiki/Open_Educational_Resources). Feel free to use the notebooks for your own educational purposes. The text is licensed under [Creative Commons Attribution 4.0](https://creativecommons.org/licenses/by/4.0/), the code of the IPython examples under the [MIT license](https://opensource.org/licenses/MIT). Please attribute the work as follows: *Lecture Notes on Signals and Systems* by Sascha Spors."
   ]
  }
 ],
 "metadata": {
  "kernelspec": {
   "display_name": "Python 3",
   "language": "python",
   "name": "python3"
  },
  "language_info": {
   "codemirror_mode": {
    "name": "ipython",
    "version": 3
   },
   "file_extension": ".py",
   "mimetype": "text/x-python",
   "name": "python",
   "nbconvert_exporter": "python",
   "pygments_lexer": "ipython3",
   "version": "3.7.2"
  }
 },
 "nbformat": 4,
 "nbformat_minor": 1
}
