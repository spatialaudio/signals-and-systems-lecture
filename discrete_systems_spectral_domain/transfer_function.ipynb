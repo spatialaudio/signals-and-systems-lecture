{
 "cells": [
  {
   "cell_type": "markdown",
   "metadata": {
    "nbsphinx": "hidden"
   },
   "source": [
    "# Characterization of Discrete Systems in the Spectral Domain\n",
    "\n",
    "*This Jupyter notebook is part of a [collection of notebooks](../index.ipynb) in the bachelors module Signals and Systems, Communications Engineering, Universität Rostock. Please direct questions and suggestions to [Sascha.Spors@uni-rostock.de](mailto:Sascha.Spors@uni-rostock.de).*"
   ]
  },
  {
   "cell_type": "markdown",
   "metadata": {},
   "source": [
    "## The Transfer Function\n",
    "\n",
    "Different time-domain representations are used to characterize linear time-invariant (LTI) discrete systems. For instance, the constant coefficients of [difference equations](../discrete_systems_time_domain/difference_equation.ipynb) and the [impulse response](../discrete_systems_time_domain/impulse_response.ipynb). The [transfer function](../discrete_systems_time_domain/eigenfunctions.ipynb#Transfer-Function) denotes the complex factor $H(z)$ an eigenfunction $z^k$ at the input of an LTI system is weighted with when passing through the system. Since the $z$-transform decomposes discrete signals with respect to these eigenfunctions, the transfer function constitutes a representation of an LTI system in the spectral domain (e.g. discrete (time) Fourier domain). The links between the transfer function and the time-domain representations of LTI systems are discussed in the following."
   ]
  },
  {
   "cell_type": "markdown",
   "metadata": {},
   "source": [
    "### Relation to Impulse Response and In-/Output Signal\n",
    "\n",
    "It was already outlined in the context of the [convolution theorem of the $z$-transform](../z_transform/theorems.ipynb#Convolution-Theorem) and [discrete-time Fourier transform](../discrete_time_fourier_transform/theorems.ipynb#Convolution-Theorem), that an LTI system can be represented equivalently in the temporal and spectral domain. In the temporal domain the output $y[k]$ of a discrete LTI system is given by convolving the input signal $x[k]$ with the [impulse response](../discrete_systems_time_domain/impulse_response.ipynb) $h[k]$ of the system\n",
    "\n",
    "\\begin{equation}\n",
    "y[k] = x[k] * h[k]\n",
    "\\end{equation}\n",
    "\n",
    "Applying the convolution theorem of the $z$-transform yields\n",
    "\n",
    "\\begin{equation}\n",
    "Y(z) = X(z) \\cdot H(z)\n",
    "\\end{equation}\n",
    "\n",
    "where $X(z) = \\mathcal{Z} \\{ x[k] \\}$ and $Y(z) = \\mathcal{Z} \\{ y[k] \\}$ denote the $z$-transforms of the input and output signal, respectively. The transfer function $H(z)$ is given as the $z$-transform of the impulse response $h[k]$\n",
    "\n",
    "\\begin{equation}\n",
    "H(z) = \\mathcal{Z} \\{ h[k] \\}\n",
    "\\end{equation}\n",
    "\n",
    "This may also be concluded from the [previously derived link between the impulse response and the transfer function](../discrete_systems_time_domain/eigenfunctions.ipynb#Link-between-Transfer-Function-and-Impulse-Response). The same relation holds in the discrete-time Fourier domain if the region of convergence (ROC) of the signals and impulse response include the unit circle $|z| = 1$ of the $z$-plane\n",
    "\n",
    "\\begin{equation}\n",
    "Y(e^{j \\Omega}) = X(e^{j \\Omega}) \\cdot H(e^{j \\Omega})\n",
    "\\end{equation}\n",
    "\n",
    "where $X(e^{j \\Omega}) = \\mathcal{F}_* \\{ x[k] \\}$, $Y(e^{j \\Omega}) = \\mathcal{F}_* \\{ y[k] \\}$ and $H(e^{j \\Omega}) = \\mathcal{F}_* \\{ h[k] \\}$ denote the discrete-time Fourier transforms (DTFTs) of the input/output signal and impulse response, respectively.\n",
    "\n",
    "The derived results show that an LTI system can be fully characterized either in the temporal or spectral domain by its impulse response $h[k]$ or transfer function $H(z)$ respectively $H(e^{j \\Omega})$.\n",
    "\n",
    "![LTI system in the temporal and spectral domain](LTI_system_time_spectral_domain.png)\n",
    "\n",
    "It can furthermore be concluded that the transfer function is given as the quotient between the spectrum of the output $Y(z)$ and input signal $X(z)$\n",
    "\n",
    "\\begin{equation}\n",
    "H(z) = \\frac{Y(z)}{X(z)}\n",
    "\\end{equation}\n",
    "\n",
    "for $X(z) \\neq 0$. Hence, the transfer function may be derived by division of the spectra of the output and input signal."
   ]
  },
  {
   "cell_type": "markdown",
   "metadata": {},
   "source": [
    "**Example - Moving Average**\n",
    "\n",
    "The transfer function $H(z) = \\mathcal{Z} \\{ h[k] \\}$ of the moving average filter is derived from its [impulse response](../discrete_systems_time_domain/impulse_response.ipynb#Finite-Impulse-Response)\n",
    "\n",
    "\\begin{equation}\n",
    "h[k] = \\frac{1}{N} \\cdot \\text{rect}_N[k]\n",
    "\\end{equation}\n",
    "\n",
    "using the $z$-transform of the rectangular signal as\n",
    "\n",
    "\\begin{equation}\n",
    "H(z) =  \\begin{cases}\n",
    "\\frac{1}{N} \\frac{1 - z^{-N}}{1 - z^{-1}} & \\text{for } z \\neq 1 \\\\\n",
    "1 & \\text{for } z = 1\n",
    "\\end{cases}\n",
    "\\end{equation}\n",
    "\n",
    "for $z \\in \\mathbb{C} \\setminus \\{ 0 \\}$. Inspection of the transfer function $H(z)$ reveals that is has no pole but $N-1$ zeros from the [roots of unity](https://en.wikipedia.org/wiki/Root_of_unity)\n",
    "\n",
    "\\begin{equation}\n",
    "z_{0n} = e^{j \\frac{2 \\pi}{N} n} \\quad \\text{for } n=1,\\dots,N-1\n",
    "\\end{equation}\n",
    "\n",
    "The zeros are consequently evenly distributed on the unit circle $|z| = 1$. The transfer function may also be given in the discrete-time Fourier domain as the region of convergence includes the unit circle. Substituting $z$ with $e^{j \\Omega}$ in above transfer function yields\n",
    "\n",
    "\\begin{equation}\n",
    "H(e^{j \\Omega}) =  \\begin{cases}\n",
    "\\frac{1}{N} \\frac{1 - e^{-j \\Omega N}}{1 - e^{- j \\Omega}} & \\text{for } \\Omega \\neq 0 \\\\\n",
    "1 & \\text{for } \\Omega = 1\n",
    "\\end{cases}\n",
    "\\end{equation}\n",
    "\n",
    "The absolute value $|H(e^{j \\Omega})|$ of the transfer function is plotted for illustration"
   ]
  },
  {
   "cell_type": "code",
   "execution_count": null,
   "metadata": {
    "scrolled": false
   },
   "outputs": [],
   "source": [
    "import sympy as sym\n",
    "sym.init_printing()\n",
    "%matplotlib inline\n",
    "\n",
    "N = 5\n",
    "W = sym.symbols('Omega', real=True)\n",
    "\n",
    "H = 1/N * (1 - sym.exp(-sym.I*W*N)) / (1 - sym.exp(-sym.I*W))\n",
    "sym.plot(sym.Abs(H), (W, -sym.pi, sym.pi),\n",
    "         xlabel=r'$\\Omega$', ylabel=r'$|H(e^{j \\Omega})|$')"
   ]
  },
  {
   "cell_type": "markdown",
   "metadata": {},
   "source": [
    "**Exercises**\n",
    "\n",
    "* Change the length `N` of the rectangular impulse response. How does the transfer function change?\n",
    "* What overall character does the transfer function show (low-pass, high-pass, band-pass, band-stop)?\n",
    "* Regarding the transfer function, can you explain the smoothing property of the [moving average filter](../discrete_systems_time_domain/difference_equation.ipynb#Moving-Average)?"
   ]
  },
  {
   "cell_type": "markdown",
   "metadata": {},
   "source": [
    "### Relation to Differential Equations\n",
    "\n",
    "Linear difference equations with constant coefficients quantifying the relation between input $x[k]$ and output $y[k]$ represent an LTI system. In this case a system is characterized by the constants $a_n, b_m \\in \\mathbb{C}$ of the difference equation\n",
    "\n",
    "\\begin{equation}\n",
    "\\sum_{n = 0}^{N} a_n \\; y[k - n] = \\sum_{m = 0}^{M} b_m \\; x[k -m]\n",
    "\\end{equation}\n",
    "\n",
    "where $a_N \\neq 0$ with $N$ denoting its degree. Initial values are discarded in the following. Applying a two-sided $z$-transform to the left- and right-hand-side and exploiting the [shift theorem](../z_transform/theorems.ipynb#Shift-Theorem) yields\n",
    "\n",
    "\\begin{equation}\n",
    "Y(z) \\sum_{n=0}^{N} a_n z^{-n} = X(z) \\sum_{m=0}^{M} b_m z^{-m}\n",
    "\\end{equation}\n",
    "\n",
    "Rearranging this result derives the transfer function $H(z)$ of the system as\n",
    "\n",
    "\\begin{equation}\n",
    "H(z) = \\frac{Y(z)}{X(z)} = \\frac{\\sum_{m=0}^{M} b_m z^{-m}}{\\sum_{n=0}^{N} a_n z^{-n}}\n",
    "\\end{equation}\n",
    "\n",
    "The transfer function of an LTI system whose in- and output relation can be characterized by a linear difference equation is given as rational function in $z^{-1}$. The coefficients of its numerator and denominator polynomial are given by the constant coefficients $b_m$ and $a_n$ of the difference equation. The conversion between both representations of an LTI system is therefore straightforward.\n",
    "\n",
    "Discrete systems may be classified into [recursive and non-recursive systems](../discrete_systems_time_domain/difference_equation.ipynb#Recursive-and-Non-Recursive-Systems). This has implications on the poles and zeros of the transfer function.\n",
    "\n",
    "* **Non-recursive systems** have only zeros since $a_n = 0$ for $n > 0$ and\n",
    "* **recursive systems** have poles and zeros since at least one $a_n \\neq 0$ for $n > 0$."
   ]
  },
  {
   "cell_type": "markdown",
   "metadata": {},
   "source": [
    "**Example - Second-order system**\n",
    "\n",
    "The transfer function $H(z)$ of the previously introduced [second-order recursive LTI system](difference_equation.ipynb#Second-Order-System) with the difference equation\n",
    "\n",
    "\\begin{equation}\n",
    "y[k] - y[k-1] + \\frac{1}{2} y[k-2] = x[k]\n",
    "\\end{equation}\n",
    "\n",
    "is computed. The coefficients of the system can be derived from its difference equation as $a_0 = 1$, $a_1 = -1$, $a_2 = \\frac{1}{2}$ and $b_0 = 1$. Introducing these into above equation results in\n",
    "\n",
    "\\begin{equation}\n",
    "H(z) = \\frac{1}{\\frac{1}{2} z^{-2} - z^{-1} + 1}\n",
    "\\end{equation}\n",
    "\n",
    "The magnitude of the transfer function in the DTFT domain $H(e^{j \\Omega}) = H(z) \\vert_{z = e^{j \\Omega}}$ is plotted for illustration of the system properties"
   ]
  },
  {
   "cell_type": "code",
   "execution_count": null,
   "metadata": {},
   "outputs": [],
   "source": [
    "# define variables and transfer function\n",
    "z = sym.symbols('z', complex=True)\n",
    "W = sym.symbols('Omega', real=True)\n",
    "H = 1 / (sym.Rational(1, 2)*z**(-2) - z**(-1) + 1)\n",
    "\n",
    "# plot transfer function\n",
    "sym.plot(sym.Abs(H.subs(z, sym.exp(sym.I*W))), (W, -sym.pi, sym.pi),\n",
    "         ylim=(0, 3), xlabel=r'$\\Omega$', ylabel=r'$|H(e^{j \\Omega})|$')"
   ]
  },
  {
   "cell_type": "markdown",
   "metadata": {},
   "source": [
    "It becomes evident from inspection of the magnitude response that the system has a low-pass character as higher normalized frequencies $\\Omega$ are significantly attenuated. \n",
    "\n",
    "It is common to numerically evaluate the transfer function $H(e^{j \\Omega})$ of a discrete system at a number of discrete frequencies $\\Omega_\\mu = e^{j \\frac{2 \\pi}{N} \\mu}$ for $\\mu = 0,1,\\dots,N-1$ in order to gain insights into its properties. The function [`scipy.signal.freqz`](https://docs.scipy.org/doc/scipy/reference/generated/scipy.signal.freqz.html) computes the transfer function for the given coefficients $a_n$ and $b_m$ numerically. The resulting sampled transfer function is plotted in the following example"
   ]
  },
  {
   "cell_type": "code",
   "execution_count": null,
   "metadata": {},
   "outputs": [],
   "source": [
    "import scipy.signal as sig\n",
    "import matplotlib.pyplot as plt\n",
    "import numpy as np\n",
    "\n",
    "# compute transfer function\n",
    "a = (1/2, -1, 1)\n",
    "b = (1)\n",
    "W, H = sig.freqz(b, a, whole=True, worN=np.linspace(-np.pi, np.pi, 1024))\n",
    "\n",
    "# plot transfer function\n",
    "plt.figure()\n",
    "plt.plot(W, abs(H))\n",
    "plt.ylabel(r'$|H(e^{j \\Omega})|$')\n",
    "plt.xlabel(r'$\\Omega$')\n",
    "plt.ylim([0, 3])\n",
    "plt.grid()"
   ]
  },
  {
   "cell_type": "markdown",
   "metadata": {},
   "source": [
    "### Determination from Internal Structure\n",
    "\n",
    "If known, the transfer function $H(z)$ may be determined from the internal structure of a discrete LTI system. The structure of a system is often visualized by a block-diagram or [signal-flow graph](https://en.wikipedia.org/wiki/Signal-flow_graph). For LTI systems these are composed from unit delays $z^{-1}$, multiplications and additions. From the analysis of the system structure, the linear difference equation can be derived. Once its coefficients are known it is straightforward to compute the transfer function $H(z)$. As alternative, the transfer function may also be derived by analysis of the system in the $z$-domain. The transfer function is then given as the quotient between the spectrum of the output signal $Y(z)$ and the input signal $X(z)$."
   ]
  },
  {
   "cell_type": "markdown",
   "metadata": {},
   "source": [
    "### Modeling a Continuous System by a Discrete System\n",
    "\n",
    "It is often desired to model a continuous system by a discrete system showing similar properties. Applications include the characterization of continuous systems and digital realization of their discrete counter parts. For instance, the properties of the discrete counterpart can be investigated more conveniently by numerical methods than the continuous system. \n",
    "\n",
    "In the following it is aimed at modeling the continuous system by a discrete LTI system with [finite impulse response](../discrete_systems_time_domain/impulse_response.ipynb#Finite-Impulse-Response) (FIR). The output signal $y(t) = \\mathcal{H} \\{ x(t) \\}$ of the continuous system reads\n",
    "\n",
    "\\begin{equation}\n",
    "y(t) = x(t) * h(t)\n",
    "\\end{equation}\n",
    "\n",
    "where $h(t)$ denotes its impulse response. [Ideal sampling](../sampling/ideal.ipynb#Model-of-Ideal-Sampling) of all signals, e.g. $x[k] = x(k T)$ with the sampling interval $T$, yields their discrete counterparts\n",
    "\n",
    "\\begin{equation}\n",
    "y_M[k] = x_L[k] * h_N[k]\n",
    "\\end{equation}\n",
    "\n",
    "where its is assumed that the signals are of finite length given by the respective index. Due to the properties of the linear convolution for finite-length signals, the length $M$ of the signal $y_M[k]$ is $M = L+N-1$. In order to represent this relation in the DFT domain, the signals $x_L[k]$ and $h_N[k]$ have to be zero-padded to at least length $M$ in order to yield [equality of the linear and periodic convolution](../discrete_fourier_transform/fast_convolution.ipynb#Equivalence-of-Linear-and-Periodic-Convolution). For instance\n",
    "\n",
    "\\begin{equation}\n",
    "x_M[k] = \\begin{cases} \n",
    "x_L[k] & \\text{for } 0 \\leq k < L \\\\\n",
    "0 & \\text{for } L \\leq k < M\n",
    "\\end{cases}\n",
    "\\end{equation}\n",
    "\n",
    "Introducing the zero-padded signals, performing a DFT of length M on the left- and right-hand side and exploiting the [convolution theorem](../discrete_fourier_transform/theorems.ipynb#Convolution-Theorem) yields\n",
    "\n",
    "\\begin{equation}\n",
    "Y_M[\\mu] = X_M[\\mu] \\cdot H_M[\\mu]\n",
    "\\end{equation}\n",
    "\n",
    "where for instance $Y_M[\\mu] = \\text{DFT}_M \\{ y_M[k] \\}$. Rearranging this result for $X[\\mu] \\neq 0$ results in\n",
    "\n",
    "\\begin{equation}\n",
    "H_M[\\mu] = \\frac{Y_M[\\mu]}{X_M[\\mu]}\n",
    "\\end{equation}\n",
    "\n",
    "The FIR $h_N[k]$ of the discrete system is given by the inverse DFT of the transfer function $H_M[\\mu]$ followed by a truncation to $N$ samples. \n",
    "\n",
    "Above relation requires the knowledge of the in- and output signal of the continuous system in order to derive its discrete model. Practically, the continuous system may be fed by the input signal $x(t)$ that has been reconstructed from its discrete counterpart $x[k]$ generated digitally. A Dirac impulse $x[k] = \\delta[k]$ would be a natural first choice as it fulfills $X[\\mu] \\neq 0$. However, the resulting continuous signal after reconstruction $x(t) = \\text{sinc} \\left( \\frac{\\pi t}{T} \\right)$ shows a very high [Crest factor](https://en.wikipedia.org/wiki/Crest_factor). In many applications this is undesirable as the major energy of the signal is concentrated in a very short period of time. This issue can be overcome by using specific measurement signals that fulfill $X[\\mu] \\neq 0$ while showing a low crest factor. For instance [chirp signals](https://en.wikipedia.org/wiki/Chirp).\n",
    "\n",
    "The application example in the next section shows how the impulse response of a electroacoustic system can be measured following the outlined theory."
   ]
  },
  {
   "cell_type": "markdown",
   "metadata": {
    "nbsphinx": "hidden"
   },
   "source": [
    "**Copyright**\n",
    "\n",
    "The notebooks are provided as [Open Educational Resource](https://de.wikipedia.org/wiki/Open_Educational_Resources). Feel free to use the notebooks for your own educational purposes. The text is licensed under [Creative Commons Attribution 4.0](https://creativecommons.org/licenses/by/4.0/), the code of the IPython examples under the [MIT license](https://opensource.org/licenses/MIT). Please attribute the work as follows: *Lecture Notes on Signals and Systems* by Sascha Spors."
   ]
  }
 ],
 "metadata": {
  "kernelspec": {
   "display_name": "Python 3",
   "language": "python",
   "name": "python3"
  },
  "language_info": {
   "codemirror_mode": {
    "name": "ipython",
    "version": 3
   },
   "file_extension": ".py",
   "mimetype": "text/x-python",
   "name": "python",
   "nbconvert_exporter": "python",
   "pygments_lexer": "ipython3",
   "version": "3.7.2"
  }
 },
 "nbformat": 4,
 "nbformat_minor": 1
}
