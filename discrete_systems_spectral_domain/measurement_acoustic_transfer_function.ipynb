{
 "cells": [
  {
   "cell_type": "markdown",
   "metadata": {
    "nbsphinx": "hidden"
   },
   "source": [
    "# Characterization of Discrete Systems in the Spectral Domain\n",
    "\n",
    "*This Jupyter notebook is part of a [collection of notebooks](../index.ipynb) in the bachelors module Signals and Systems, Communications Engineering, Universität Rostock. Please direct questions and suggestions to [Sascha.Spors@uni-rostock.de](mailto:Sascha.Spors@uni-rostock.de).*"
   ]
  },
  {
   "cell_type": "markdown",
   "metadata": {
    "execute": "never"
   },
   "source": [
    "## Measurement of an Electroacoustic Transfer Function\n",
    "\n",
    "The propagation of sound from a loudspeaker placed at one position in a room to a microphone placed at another position can be interpreted as system. The system can be regarded as linear time-invariant (LTI) system under the assumption that the [sound pressure level](https://en.wikipedia.org/wiki/Sound_pressure#Sound_pressure_level) is kept reasonably low (e.g. $L_p < 100$ dB, **pay attention to your ears**) and neither the loudspeaker nor the microphone are 'overdriven'. Consequently, its impulse response $h(t)$ characterizes the propagation of sound between theses two positions. Room impulse responses (RIRs) have a wide range of applications in acoustics, e.g. for the characterization of electroacoustic equipment, room acoustics or auralization. Therefore their measurement and modeling by discrete systems has found a lot of attention in digital signal processing.\n",
    "Similarly, electromagnetic wave radiation between a transmitter and a receiver could be modeled as a linear transmission channel.\n",
    "\n",
    "The following example demonstrates how an electroacoustic transfer function can be measured and [modeled by an finite impulse response (FIR) system](transfer_function.ipynb#Modeling-a-Continuous-System-by-a-Discrete-System) using the soundcard of a computer. The module [`sounddevice`](http://python-sounddevice.readthedocs.org/) provides access to the soundcard via [`portaudio`](http://www.portaudio.com/). The basic procedure involves the following three steps\n",
    "\n",
    "1. generation of the measurement signal $x[k]$,\n",
    "2. playback of measurement signal $x(t)$ and synchronous recording of system response $y(t)$ (digitalization to $y[k]$), and\n",
    "3. computation of transfer function $H[\\mu]$ and impulse response $h[k]$."
   ]
  },
  {
   "cell_type": "code",
   "execution_count": null,
   "metadata": {},
   "outputs": [],
   "source": [
    "import numpy as np\n",
    "import matplotlib.pyplot as plt\n",
    "import scipy.signal as signal\n",
    "import sounddevice as sd\n",
    "%matplotlib inline\n",
    "\n",
    "fs = 44100  # sampling rate\n",
    "T = 5  # length of measurement signal in s\n",
    "Tr = 2  # length of system impulse response in s\n",
    "\n",
    "t = np.linspace(0, T, T*fs)"
   ]
  },
  {
   "cell_type": "markdown",
   "metadata": {},
   "source": [
    "### Generation of the Measurement Signal\n",
    "\n",
    "The measurement signal has to fulfill $H[\\mu] \\neq 0$, as outlined [before](transfer_function.ipynb#Modeling-a-Continuous-System-by-a-Discrete-System). A Dirac impulse $x[k] = \\delta[k]$ cannot be used for electroacoustic equipment due to its high [Crest factor](https://en.wikipedia.org/wiki/Crest_factor). Chirp signals show a variety of favourable properties for the measurement of electroacoustic systems, e.g. a low Crest factor and a magnitude spectrum which can be freely adjusted, for example to the background noise.\n",
    "\n",
    "A sampled linear chirp signal is used as measurement signal\n",
    "\n",
    "\\begin{equation}\n",
    "x[k] = A \\sin \\left( \\frac{\\omega_\\text{stop} - \\omega_\\text{start}}{2 T} \\cdot (k T)^2 +  \\omega_\\text{start} \\cdot k T \\right)\n",
    "\\end{equation}\n",
    "\n",
    "where $\\omega_\\text{start}$ and $\\omega_\\text{stop}$ denotes its start and end frequency, respectively and $T$ the sampling period. The measurement signal $x[k]$ is generated and normalized"
   ]
  },
  {
   "cell_type": "code",
   "execution_count": null,
   "metadata": {},
   "outputs": [],
   "source": [
    "x = signal.chirp(t, 20, T, 20000, 'linear', phi=90)\n",
    "x = 0.9 * x / np.max(np.abs(x))"
   ]
  },
  {
   "cell_type": "markdown",
   "metadata": {},
   "source": [
    "and its magnitude spectrum $|H[\\mu]|$ plotted for illustration"
   ]
  },
  {
   "cell_type": "code",
   "execution_count": null,
   "metadata": {},
   "outputs": [],
   "source": [
    "X = np.fft.rfft(x)\n",
    "f = np.fft.rfftfreq(len(x))*fs\n",
    "\n",
    "plt.plot(f, 20*np.log10(np.abs(X)))\n",
    "plt.xlabel(r'$f$ in Hz')\n",
    "plt.ylabel(r'$|X(f)|$ in dB')\n",
    "plt.grid()\n",
    "plt.axis([0, fs/2, 0, 55])"
   ]
  },
  {
   "cell_type": "markdown",
   "metadata": {},
   "source": [
    "### Playback of Measurement Signal and Recording of Room Response\n",
    "\n",
    "The measurement signal $x[k]$ is played through the output of the soundcard and the response $y(t)$ is captured synchronously by the input of the soundcard. The length of the played/captured signal has to be of equal length when using the soundcard. The measurement signal $x[k]$ is zero-padded so that the captured signal $y[k]$ includes the complete system response.\n",
    "\n",
    "Be sure not to overdrive the speaker and the microphone by keeping the input level well below 0 dBFS."
   ]
  },
  {
   "cell_type": "code",
   "execution_count": null,
   "metadata": {},
   "outputs": [],
   "source": [
    "x = np.concatenate((x, np.zeros(Tr*fs)))\n",
    "y = sd.playrec(x, fs, channels=1)\n",
    "sd.wait()\n",
    "y = np.squeeze(y)\n",
    "\n",
    "print('Playback level: ', 20*np.log10(max(x)), ' dB')\n",
    "print('Input level: ', 20*np.log10(max(y)), ' dB')"
   ]
  },
  {
   "cell_type": "markdown",
   "metadata": {},
   "source": [
    "### Computation of the Electroacoustic Transfer Function\n",
    "\n",
    "The acoustic transfer function is computed by driving the spectrum of the system output $Y[\\mu] = \\text{DFT} \\{ y[k] \\}$ by the spectrum of the measurement signal $X[\\mu] = \\text{DFT} \\{ x[k] \\}$. Since both signals are real-valued, a real-valued fast Fourier transform (FFT) is used."
   ]
  },
  {
   "cell_type": "code",
   "execution_count": null,
   "metadata": {},
   "outputs": [],
   "source": [
    "H = np.fft.rfft(y) / np.fft.rfft(x)"
   ]
  },
  {
   "cell_type": "markdown",
   "metadata": {},
   "source": [
    "The magnitude of the transfer function is plotted for illustration"
   ]
  },
  {
   "cell_type": "code",
   "execution_count": null,
   "metadata": {},
   "outputs": [],
   "source": [
    "f = np.fft.rfftfreq(len(x))*fs\n",
    "plt.plot(f, 20*np.log10(np.abs(H)))\n",
    "plt.xlabel(r'$f$ in Hz')\n",
    "plt.ylabel(r'$|H(f)|$ in dB')\n",
    "plt.grid()\n",
    "plt.xlim([0, fs/2])"
   ]
  },
  {
   "cell_type": "markdown",
   "metadata": {},
   "source": [
    "### Computation of the Electroacoustic Impulse Response\n",
    "\n",
    "The impulse response is computed by inverse DFT $h[k] = \\text{IDFT} \\{ H[\\mu] \\}$ and truncation to its assumed length"
   ]
  },
  {
   "cell_type": "code",
   "execution_count": null,
   "metadata": {},
   "outputs": [],
   "source": [
    "h = np.fft.irfft(H)\n",
    "h = h[0:Tr*fs]"
   ]
  },
  {
   "cell_type": "markdown",
   "metadata": {},
   "source": [
    "It is plotted for illustration"
   ]
  },
  {
   "cell_type": "code",
   "execution_count": null,
   "metadata": {},
   "outputs": [],
   "source": [
    "t = 1/fs * np.arange(len(h))\n",
    "plt.plot(t, h)\n",
    "plt.axis([0.05, .2, -0.5, 0.5])\n",
    "plt.xlabel(r'$t$ in s')\n",
    "plt.ylabel(r'$h[k]$')\n",
    "plt.grid()"
   ]
  },
  {
   "cell_type": "markdown",
   "metadata": {
    "nbsphinx": "hidden"
   },
   "source": [
    "**Copyright**\n",
    "\n",
    "The notebooks are provided as [Open Educational Resource](https://de.wikipedia.org/wiki/Open_Educational_Resources). Feel free to use the notebooks for your own educational purposes. The text is licensed under [Creative Commons Attribution 4.0](https://creativecommons.org/licenses/by/4.0/), the code of the IPython examples under the [MIT license](https://opensource.org/licenses/MIT). Please attribute the work as follows: *Lecture Notes on Signals and Systems* by Sascha Spors."
   ]
  }
 ],
 "metadata": {
  "kernelspec": {
   "display_name": "Python 3",
   "language": "python",
   "name": "python3"
  },
  "language_info": {
   "codemirror_mode": {
    "name": "ipython",
    "version": 3
   },
   "file_extension": ".py",
   "mimetype": "text/x-python",
   "name": "python",
   "nbconvert_exporter": "python",
   "pygments_lexer": "ipython3",
   "version": "3.7.2"
  },
  "nbsphinx": {
   "execute": "never"
  }
 },
 "nbformat": 4,
 "nbformat_minor": 1
}
