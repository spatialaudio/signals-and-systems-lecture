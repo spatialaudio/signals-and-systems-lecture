{
 "cells": [
  {
   "cell_type": "markdown",
   "metadata": {
    "nbsphinx": "hidden"
   },
   "source": [
    "# Characterization of Discrete Systems in the Spectral Domain\n",
    "\n",
    "*This Jupyter notebook is part of a [collection of notebooks](../index.ipynb) in the bachelors module Signals and Systems, Communications Engineering, Universität Rostock. Please direct questions and suggestions to [Sascha.Spors@uni-rostock.de](mailto:Sascha.Spors@uni-rostock.de).*"
   ]
  },
  {
   "cell_type": "markdown",
   "metadata": {},
   "source": [
    "## The Transfer Function\n",
    "\n",
    "Different time-domain representations are used to characterize linear time-invariant (LTI) discrete systems. For instance, the constant coefficients of [difference equations](../discrete_systems_time_domain/difference_equation.ipynb) and the [impulse response](../discrete_systems_time_domain/impulse_response.ipynb). The [transfer function](../discrete_systems_time_domain/eigenfunctions.ipynb#Transfer-Function) denotes the complex factor $H(z)$ an eigenfunction $z^k$ at the input of an LTI system is weighted with when passing through the system. Since the $z$-transform decomposes discrete signals with respect to these eigenfunctions, the transfer function constitutes a representation of an LTI system in the spectral domain (e.g. discrete (time) Fourier domain). The links between the transfer function and the time-domain representations of LTI systems are discussed in the following."
   ]
  },
  {
   "cell_type": "markdown",
   "metadata": {},
   "source": [
    "### Relation to Impulse Response and In-/Output Signal\n",
    "\n",
    "It was already outlined in the context of the [convolution theorem of the $z$-transform](../z_transform/theorems.ipynb#Convolution-Theorem) and [discrete-time Fourier transform](../discrete_time_fourier_transform/theorems.ipynb#Convolution-Theorem), that an LTI system can be represented equivalently in the temporal and spectral domain. In the temporal domain the output $y[k]$ of a discrete LTI system is given by convolving the input signal $x[k]$ with the [impulse response](../discrete_systems_time_domain/impulse_response.ipynb) $h[k]$ of the system\n",
    "\n",
    "\\begin{equation}\n",
    "y[k] = x[k] * h[k]\n",
    "\\end{equation}\n",
    "\n",
    "Applying the convolution theorem of the $z$-transform yields\n",
    "\n",
    "\\begin{equation}\n",
    "Y(z) = X(z) \\cdot H(z)\n",
    "\\end{equation}\n",
    "\n",
    "where $X(z) = \\mathcal{Z} \\{ x[k] \\}$ and $Y(z) = \\mathcal{Z} \\{ y[k] \\}$ are the $z$-transforms of the input and output signal, respectively. The transfer function $H(z)$ is given as the $z$-transform of the impulse response $h[k]$\n",
    "\n",
    "\\begin{equation}\n",
    "H(z) = \\mathcal{Z} \\{ h[k] \\}\n",
    "\\end{equation}\n",
    "\n",
    "This may also be concluded from the [previously derived link between the impulse response and the transfer function](../discrete_systems_time_domain/eigenfunctions.ipynb#Link-between-Transfer-Function-and-Impulse-Response). The same relation holds in the discrete-time Fourier domain if the region of convergence (ROC) of the signals and impulse response include the unit circle $|z| = 1$ of the $z$-plane\n",
    "\n",
    "\\begin{equation}\n",
    "Y(e^{j \\Omega}) = X(e^{j \\Omega}) \\cdot H(e^{j \\Omega})\n",
    "\\end{equation}\n",
    "\n",
    "where $X(e^{j \\Omega}) = \\mathcal{F}_* \\{ x[k] \\}$, $Y(e^{j \\Omega}) = \\mathcal{F}_* \\{ y[k] \\}$ and $H(e^{j \\Omega}) = \\mathcal{F}_* \\{ h[k] \\}$ are the discrete-time Fourier transforms (DTFTs) of the input/output signal and impulse response, respectively.\n",
    "\n",
    "The derived results show that an LTI system can be fully characterized either in the temporal or spectral domain by its impulse response $h[k]$ or transfer function $H(z)$ respectively $H(e^{j \\Omega})$.\n",
    "\n",
    "![LTI system in the temporal and spectral domain](LTI_system_time_spectral_domain.png)\n",
    "\n",
    "It can furthermore be concluded that the transfer function is given as the quotient between the spectrum of the output $Y(z)$ and input signal $X(z)$\n",
    "\n",
    "\\begin{equation}\n",
    "H(z) = \\frac{Y(z)}{X(z)}\n",
    "\\end{equation}\n",
    "\n",
    "for $X(z) \\neq 0$. Hence, the transfer function may be derived by division of the spectra of the output and input signal."
   ]
  },
  {
   "cell_type": "markdown",
   "metadata": {},
   "source": [
    "**Example - Moving Average**\n",
    "\n",
    "The transfer function $H(z) = \\mathcal{Z} \\{ h[k] \\}$ of the moving average filter is derived from its [impulse response](../discrete_systems_time_domain/impulse_response.ipynb#Finite-Impulse-Response)\n",
    "\n",
    "\\begin{equation}\n",
    "h[k] = \\frac{1}{N} \\cdot \\text{rect}_N[k]\n",
    "\\end{equation}\n",
    "\n",
    "using the $z$-transform of the rectangular signal as\n",
    "\n",
    "\\begin{equation}\n",
    "H(z) =  \\begin{cases}\n",
    "\\frac{1}{N} \\frac{1 - z^{-N}}{1 - z^{-1}} & \\text{for } z \\neq 1 \\\\\n",
    "1 & \\text{for } z = 1\n",
    "\\end{cases}\n",
    "\\end{equation}\n",
    "\n",
    "for $z \\in \\mathbb{C} \\setminus \\{ 0 \\}$. Inspection of the transfer function $H(z)$ reveals that is has no pole but $N-1$ zeros from the [roots of unity](https://en.wikipedia.org/wiki/Root_of_unity)\n",
    "\n",
    "\\begin{equation}\n",
    "z_{0n} = e^{j \\frac{2 \\pi}{N} n} \\quad \\text{for } n=1,\\dots,N-1\n",
    "\\end{equation}\n",
    "\n",
    "The zeros are consequently evenly distributed on the unit circle $|z| = 1$. The transfer function may also be given in the discrete-time Fourier domain as the region of convergence includes the unit circle. Substituting $z$ with $e^{j \\Omega}$ in above transfer function yields\n",
    "\n",
    "\\begin{equation}\n",
    "H(e^{j \\Omega}) =  \\begin{cases}\n",
    "\\frac{1}{N} \\frac{1 - e^{-j \\Omega N}}{1 - e^{- j \\Omega}} & \\text{for } \\Omega \\neq 0 \\\\\n",
    "1 & \\text{for } \\Omega = 1\n",
    "\\end{cases}\n",
    "\\end{equation}\n",
    "\n",
    "The absolute value $|H(e^{j \\Omega})|$ of the transfer function is plotted for illustration"
   ]
  },
  {
   "cell_type": "code",
   "execution_count": 1,
   "metadata": {
    "scrolled": false
   },
   "outputs": [
    {
     "data": {
      "image/png": "[encoded data removed]",
      "text/plain": [
       "<Figure size 432x288 with 1 Axes>"
      ]
     },
     "metadata": {
      "needs_background": "light"
     },
     "output_type": "display_data"
    },
    {
     "data": {
      "text/plain": [
       "<sympy.plotting.plot.Plot at 0x11ad90860>"
      ]
     },
     "execution_count": 1,
     "metadata": {},
     "output_type": "execute_result"
    }
   ],
   "source": [
    "import sympy as sym\n",
    "%matplotlib inline\n",
    "\n",
    "N = 5\n",
    "W = sym.symbols('Omega', real=True)\n",
    "\n",
    "H = 1/N * (1 - sym.exp(-sym.I*W*N)) / (1 - sym.exp(-sym.I*W))\n",
    "sym.plot(sym.Abs(H), (W, -sym.pi, sym.pi),\n",
    "         xlabel=r'$\\Omega$', ylabel=r'$|H(e^{j \\Omega})|$')"
   ]
  },
  {
   "cell_type": "markdown",
   "metadata": {},
   "source": [
    "**Exercises**\n",
    "\n",
    "* Change the length `N` of the rectangular impulse response. How does the transfer function change?\n",
    "* What overall character does the transfer function show (low-pass, high-pass, band-pass, band-stop)?\n",
    "* Regarding the transfer function, can you explain the smoothing property of the [moving average filter](../discrete_systems_time_domain/difference_equation.ipynb#Moving-Average)?"
   ]
  },
  {
   "cell_type": "markdown",
   "metadata": {},
   "source": [
    "### Relation to Differential Equations\n",
    "\n",
    "Linear difference equations with constant coefficients describing the relation between input $x[k]$ and output $y[k]$ represent an LTI system. In this case a system is characterized by the constants $a_n, b_m \\in \\mathbb{C}$ of the difference equation\n",
    "\n",
    "\\begin{equation}\n",
    "\\sum_{n = 0}^{N} a_n \\; y[k - n] = \\sum_{m = 0}^{M} b_m \\; x[k -m]\n",
    "\\end{equation}\n",
    "\n",
    "where $a_N \\neq 0$ with $N$ denoting its degree. Initial values are discarded in the following. Applying a two-sided $z$-transform to the left- and right-hand-side and exploiting the [shift theorem](../z_transform/theorems.ipynb#Shift-Theorem) yields\n",
    "\n",
    "\\begin{equation}\n",
    "Y(z) \\sum_{n=0}^{N} a_n z^{-n} = X(z) \\sum_{m=0}^{M} b_m z^{-m}\n",
    "\\end{equation}\n",
    "\n",
    "Rearranging this result derives the transfer function $H(z)$ of the system as\n",
    "\n",
    "\\begin{equation}\n",
    "H(z) = \\frac{Y(z)}{X(z)} = \\frac{\\sum_{m=0}^{M} b_m z^{-m}}{\\sum_{n=0}^{N} a_n z^{-n}}\n",
    "\\end{equation}\n",
    "\n",
    "The transfer function of an LTI system whose in- and output relation can be characterized by an linear difference equation is given as rational function in $z^{-1}$. The coefficients of its numerator and denominator polynomial are given by the constant coefficients $b_m$ and $a_n$ of the difference equation. The conversion between both representations of an LTI system is therefore straightforward.\n",
    "\n",
    "Discrete systems may be classified into [recursive and non-recursive systems](../discrete_systems_time_domain/difference_equation.ipynb#Recursive-and-Non-Recursive-Systems). This has implications on the poles and zeros of the transfer function. A\n",
    "\n",
    "* **non-recursive system** has only zeros since $a_n = 0$ for $n > 0$ and a\n",
    "* **recursive system** has poles and zeros since at least one $a_n \\neq 0$ for $n > 0$."
   ]
  },
  {
   "cell_type": "markdown",
   "metadata": {},
   "source": [
    "**Example**\n",
    "\n",
    "* transfer function for 2nd-order recursive system (analytic, freqz) "
   ]
  },
  {
   "cell_type": "markdown",
   "metadata": {},
   "source": [
    "### Determination from Internal Structure\n",
    "\n",
    "The transfer function $H(s)$ can be determined from the internal structure of an LTI system, if known. Either by derivation of the ODE characterizing the system, as shown above, or by direct analysis of the system in the Laplace/Fourier domain. For passive electrical networks this can be conducted by representing the signals and elements of the network by their complex impedances $Z(s)$ and applying Kirchhoff's circuit laws. This was illustrated for instance by the previous [Laplace domain analysis of a 2nd order low-pass filter](../laplace_transform/network_analysis.ipynb#Example:-Second-Order-Low-Pass-Filter). Similar procedures can be applied to other types of LTI systems, e.g. mechanical systems.\n",
    "\n",
    "The transfer function is then given as the quotient between the output signal $Y(s)$ and the input signal $X(s)$ in the Laplace/Fourier domain."
   ]
  },
  {
   "cell_type": "markdown",
   "metadata": {},
   "source": [
    "### Measurement\n",
    "\n",
    "This can be used to measure the transfer function of a system by specific input signals that fulfill $X(z) \\neq 0$ with $X(z) \\approx$ constant.\n",
    "\n",
    "* next sections"
   ]
  },
  {
   "cell_type": "markdown",
   "metadata": {
    "nbsphinx": "hidden"
   },
   "source": [
    "**Copyright**\n",
    "\n",
    "The notebooks are provided as [Open Educational Resource](https://de.wikipedia.org/wiki/Open_Educational_Resources). Feel free to use the notebooks for your own educational purposes. The text is licensed under [Creative Commons Attribution 4.0](https://creativecommons.org/licenses/by/4.0/), the code of the IPython examples under the [MIT license](https://opensource.org/licenses/MIT). Please attribute the work as follows: *Lecture Notes on Signals and Systems* by Sascha Spors."
   ]
  }
 ],
 "metadata": {
  "kernelspec": {
   "display_name": "Python 3",
   "language": "python",
   "name": "python3"
  },
  "language_info": {
   "codemirror_mode": {
    "name": "ipython",
    "version": 3
   },
   "file_extension": ".py",
   "mimetype": "text/x-python",
   "name": "python",
   "nbconvert_exporter": "python",
   "pygments_lexer": "ipython3",
   "version": "3.7.3"
  }
 },
 "nbformat": 4,
 "nbformat_minor": 1
}
