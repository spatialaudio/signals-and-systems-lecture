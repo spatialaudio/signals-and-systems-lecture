{
 "cells": [
  {
   "cell_type": "markdown",
   "metadata": {
    "execute": "never"
   },
   "source": [
    "# Messung einer akustischen Impulsantwort\n",
    "\n",
    "Messung und Berechnung einer akustischen Impulsantwort durch Abspielen eines Sweep-Signals mit der Soundkarte, zeitsynchrones Aufnehmen der Raumantwort und spektrale Division.\n",
    "\n",
    "*Modul Signal- und Systemtheorie, Institut für Nachrichtentechnik, Universität Rostock\n",
    "(c) Sascha Spors, [Sascha.Spors@uni-rostock.de](mailto:Sascha.Spors@uni-rostock.de)*"
   ]
  },
  {
   "cell_type": "markdown",
   "metadata": {},
   "source": [
    "### Initialisierung\n",
    "\n",
    "Das Paket `sounddevice` bietet Python Zugriff auf die Soundkarte mittels `portaudio`. Dokumentation und Installationsanleitung zu `sounddevice` unter <http://python-sounddevice.readthedocs.org/> und zu `portaudio` unter <http://www.portaudio.com/>."
   ]
  },
  {
   "cell_type": "code",
   "execution_count": 1,
   "metadata": {
    "collapsed": true
   },
   "outputs": [],
   "source": [
    "%matplotlib inline\n",
    "\n",
    "import numpy as np\n",
    "import matplotlib.pyplot as plt\n",
    "import scipy.signal as signal\n",
    "import sounddevice as sd"
   ]
  },
  {
   "cell_type": "markdown",
   "metadata": {},
   "source": [
    "### Erzeugung des Messsignals\n",
    "\n",
    "Als Messsignal wird ein abgetasteter linearer Sweep $x(t) = A \\sin \\left( \\frac{\\omega_{stop} - \\omega_{start}}{2 T} t^2 +  \\omega_{start} t \\right)$ verwendet. Dieser hat gegenüber einer Impulsfolge $\\delta[k]$ den Vorteil eines niedrigen Crest-Faktors."
   ]
  },
  {
   "cell_type": "code",
   "execution_count": 2,
   "metadata": {
    "collapsed": true
   },
   "outputs": [],
   "source": [
    "fs = 44100  # Abtastrate\n",
    "T = 5  # Länge des Messsignals in Sekunden\n",
    "Tr = 2  # Länge der Systemantwort in Sekunden\n",
    "\n",
    "t = np.linspace(0, T, T*fs)\n",
    "x = signal.chirp(t, 20, T, 20000, 'linear', phi=90)\n",
    "x = 0.9 * x / np.max(np.abs(x))"
   ]
  },
  {
   "cell_type": "markdown",
   "metadata": {},
   "source": [
    "Das Betragsspektrum $|H(e^{j \\Omega})|$ mit $\\Omega = \\frac{\\omega}{f_s} = \\frac{2 \\pi f}{f_s}$ des Sweep-Signals ist im Frequenzbereich von $\\omega_{start}$ bis $\\omega_{stop}$ nahezu konstant"
   ]
  },
  {
   "cell_type": "code",
   "execution_count": 3,
   "metadata": {},
   "outputs": [
    {
     "data": {
      "image/png": "[encoded data removed]",
      "text/plain": [
       "<matplotlib.figure.Figure at 0x1066bfac8>"
      ]
     },
     "metadata": {},
     "output_type": "display_data"
    }
   ],
   "source": [
    "X = np.fft.rfft(x)\n",
    "f = np.fft.rfftfreq(len(x))*fs\n",
    "\n",
    "plt.plot(f, 20*np.log10(np.abs(X)))\n",
    "plt.xlabel(r'$f$ in Hz')\n",
    "plt.ylabel(r'$|X(f)|$ in dB')\n",
    "plt.grid()\n",
    "plt.axis([0, fs/2, 0, 55]);"
   ]
  },
  {
   "cell_type": "markdown",
   "metadata": {},
   "source": [
    "### Abspielen des Messsignals und Aufnehmen der Systemantwort\n",
    "\n",
    "Zeitsynchrones Abspielen des Messsignals $x[k]$ und der Systemantwort $y[k]$ über den Aus- und Eingang der Soundkarte. Da die Länge des aufgenommenen Signals mit der Länge des abgespielten Signals übereinstimmen muss, wird dieses vorher mit Nullwerten aufgefüllt damit die Systemantwort mit aufgenommen wird."
   ]
  },
  {
   "cell_type": "code",
   "execution_count": 4,
   "metadata": {},
   "outputs": [
    {
     "name": "stdout",
     "output_type": "stream",
     "text": [
      "Ausgangspegel:  -0.915149812185  dB\n",
      "Eingangspegel:  8.94747127182  dB\n"
     ]
    }
   ],
   "source": [
    "x = np.concatenate((x, np.zeros(Tr*fs)))\n",
    "y = sd.playrec(x, fs, channels=1)\n",
    "sd.wait()\n",
    "y = np.squeeze(y)\n",
    "\n",
    "print('Ausgangspegel: ', 20*np.log10(max(x)), ' dB')\n",
    "print('Eingangspegel: ', 20*np.log10(max(y)), ' dB')"
   ]
  },
  {
   "cell_type": "markdown",
   "metadata": {},
   "source": [
    "### Berechnung der Impulsantwort\n",
    "\n",
    "Die Impulsantwort wird mittels spektraler Divison berechnet $h[k] = \\text{IDFT}_N \\left\\{ \\frac{ \\text{DFT}_N \\{ y[k] \\}}{\\text{DFT}_N \\{ x[k] \\}} \\right\\} $. Durch das vorherige Auffüllen des Messsignals mit Nullwerten wird eine zyklische Umfaltung bei der Berechnung der Impulsantwort vermieden."
   ]
  },
  {
   "cell_type": "code",
   "execution_count": 5,
   "metadata": {},
   "outputs": [],
   "source": [
    "H = np.fft.rfft(y) / np.fft.rfft(x)\n",
    "h = np.fft.irfft(H)\n",
    "\n",
    "h = h[0:Tr*fs]"
   ]
  },
  {
   "cell_type": "code",
   "execution_count": 6,
   "metadata": {},
   "outputs": [
    {
     "data": {
      "image/png": "[encoded data removed]",
      "text/plain": [
       "<matplotlib.figure.Figure at 0x1095d9c18>"
      ]
     },
     "metadata": {},
     "output_type": "display_data"
    }
   ],
   "source": [
    "plt.figure(figsize=(10, 5))\n",
    "t = 1/fs * np.arange(len(h))\n",
    "plt.plot(t, h)\n",
    "plt.axis([0.05, .1, -0.2, 0.2])\n",
    "plt.xlabel(r'$t$ in s')\n",
    "plt.ylabel(r'$h[k]$');"
   ]
  }
 ],
 "metadata": {
  "kernelspec": {
   "display_name": "Python 3",
   "language": "python",
   "name": "python3"
  },
  "language_info": {
   "codemirror_mode": {
    "name": "ipython",
    "version": 3
   },
   "file_extension": ".py",
   "mimetype": "text/x-python",
   "name": "python",
   "nbconvert_exporter": "python",
   "pygments_lexer": "ipython3",
   "version": "3.7.3"
  },
  "nbsphinx": {
   "execute": "never"
  }
 },
 "nbformat": 4,
 "nbformat_minor": 1
}
