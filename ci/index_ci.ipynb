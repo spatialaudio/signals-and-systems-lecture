{
 "cells": [
  {
   "cell_type": "markdown",
   "metadata": {},
   "source": [
    "# Signals and Systems"
   ]
  },
  {
   "cell_type": "markdown",
   "metadata": {
    "nbsphinx-toctree": {
     "maxdepth": 3,
     "numbered": true
    }
   },
   "source": [
    "* Introduction\n",
    "* Signals (Definition and classification of signals)\n",
    "* Systems (Definition and classification of systems)"
   ]
  },
  {
   "cell_type": "markdown",
   "metadata": {},
   "source": [
    "# Continuous Signals"
   ]
  },
  {
   "cell_type": "markdown",
   "metadata": {
    "nbsphinx-toctree": {
     "maxdepth": 3,
     "numbered": true
    }
   },
   "source": [
    "* [Standard Signals](continuous_signals/standard_signals.ipynb)\n",
    "* [Operations](continuous_signals/operations.ipynb)"
   ]
  },
  {
   "cell_type": "markdown",
   "metadata": {},
   "source": [
    "# Characterization of Systems in the Time Domain"
   ]
  },
  {
   "cell_type": "markdown",
   "metadata": {
    "nbsphinx-toctree": {
     "maxdepth": 3,
     "numbered": true
    }
   },
   "source": [
    "* [Impulse Response](systems_time_domain/impulse_response.ipynb)\n",
    "* [Convolution](systems_time_domain/convolution.ipynb)\n",
    "* [Step Response](systems_time_domain/step_response.ipynb)\n",
    "* [Eigenfunctions and the Transfer Function](systems_time_domain/eigenfunctions.ipynb)\n",
    "* [Example: Analysis of a Passive Electrical Network](systems_time_domain/network_analysis.ipynb)\n",
    "* [Example: Analysis of a Damped Spring Pendulum](systems_time_domain/spring_pendulum_analysis.ipynb)"
   ]
  },
  {
   "cell_type": "markdown",
   "metadata": {},
   "source": [
    "# The Laplace Transfrom"
   ]
  },
  {
   "cell_type": "markdown",
   "metadata": {
    "nbsphinx-toctree": {
     "maxdepth": 3,
     "numbered": true
    }
   },
   "source": [
    "* [Definition](laplace_transform/definition.ipynb)\n",
    "* [Properties](laplace_transform/properties.ipynb)\n",
    "* [Theorems](laplace_transform/theorems.ipynb)\n",
    "* [Summary of Properties, Theorems and Transforms](laplace_transform/table_theorems_transforms.ipynb)\n",
    "* [Inverse Transform](laplace_transform/inverse.ipynb)\n",
    "* [Analysis of Passive Electrical Networks](laplace_transform/network_analysis.ipynb)"
   ]
  },
  {
   "cell_type": "markdown",
   "metadata": {},
   "source": [
    "# The Fourier Transform"
   ]
  },
  {
   "cell_type": "markdown",
   "metadata": {
    "nbsphinx-toctree": {
     "maxdepth": 3,
     "numbered": true
    }
   },
   "source": [
    "* [Definition](fourier_transform/definition.ipynb)\n",
    "* [Properties](fourier_transform/properties.ipynb)\n",
    "* [Theorems](fourier_transform/theorems.ipynb)\n",
    "* [Summary of Properties, Theorems and Transforms](fourier_transform/table_theorems_transforms.ipynb)"
   ]
  },
  {
   "cell_type": "markdown",
   "metadata": {},
   "source": [
    "# Characterization of Systems in the Spectral Domain"
   ]
  },
  {
   "cell_type": "markdown",
   "metadata": {
    "nbsphinx-toctree": {
     "maxdepth": 3,
     "numbered": true
    }
   },
   "source": [
    "* [The Transfer Function](systems_spectral_domain/transfer_function.ipynb)\n",
    "* [The Bode Plot](systems_spectral_domain/bode_plot.ipynb)\n",
    "* [Phase and Group Delay](systems_spectral_domain/phase_group_delay.ipynb)\n",
    "* [Combination of Systems](systems_spectral_domain/combination.ipynb)"
   ]
  },
  {
   "cell_type": "markdown",
   "metadata": {},
   "source": [
    "#  System Properties"
   ]
  },
  {
   "cell_type": "markdown",
   "metadata": {
    "nbsphinx-toctree": {
     "maxdepth": 3,
     "numbered": true
    }
   },
   "source": [
    "* [Causality and Stability](system_properties/causality_stability.ipynb)\n",
    "* [Classes of Systems](system_properties/classes.ipynb)\n",
    "* [Idealized Systems](system_properties/idealized_systems.ipynb)"
   ]
  },
  {
   "cell_type": "markdown",
   "metadata": {},
   "source": [
    "# Periodic Signals"
   ]
  },
  {
   "cell_type": "markdown",
   "metadata": {
    "nbsphinx-toctree": {
     "maxdepth": 3,
     "numbered": true
    }
   },
   "source": [
    "* [Spectrum](periodic_signals/spectrum.ipynb)\n",
    "* [Relation between Spectrum and Fourier Series](periodic_signals/fourier_series.ipynb)\n",
    "* [Convolution of a Periodic with an Aperiodic Signal](periodic_signals/convolution.ipynb)"
   ]
  },
  {
   "cell_type": "markdown",
   "metadata": {},
   "source": [
    "# Sampling of Signals"
   ]
  },
  {
   "cell_type": "markdown",
   "metadata": {
    "nbsphinx-toctree": {
     "maxdepth": 3,
     "numbered": true
    }
   },
   "source": [
    "* [Ideal Sampling and Reconstruction](sampling/ideal.ipynb)"
   ]
  },
  {
   "cell_type": "markdown",
   "metadata": {},
   "source": [
    "# Discrete Signals"
   ]
  },
  {
   "cell_type": "markdown",
   "metadata": {
    "nbsphinx-toctree": {
     "maxdepth": 3,
     "numbered": true
    }
   },
   "source": [
    "* [Standard Signals](discrete_signals/standard_signals.ipynb)\n",
    "* [Operations](discrete_signals/operations.ipynb)"
   ]
  },
  {
   "cell_type": "markdown",
   "metadata": {},
   "source": [
    "# Characterization of Discrete Systems"
   ]
  },
  {
   "cell_type": "markdown",
   "metadata": {
    "nbsphinx-toctree": {
     "maxdepth": 3,
     "numbered": true
    }
   },
   "source": [
    "* [Difference Equation](discrete_systems/difference_equation.ipynb)\n",
    "* [Impulse Response](discrete_systems/impulse_response.ipynb)\n",
    "* [Linear Convolution](discrete_systems/linear_convolution.ipynb)\n",
    "* [Example: Convolution of an audio signal with an room impulse response](discrete_systems/convolution_room_IR.ipynb)\n",
    "* [Eigenfunctions and the Transfer Function](discrete_systems/eigenfunctions.ipynb)"
   ]
  },
  {
   "cell_type": "markdown",
   "metadata": {},
   "source": [
    "# The Discrete-Time Fourier Transform"
   ]
  },
  {
   "cell_type": "markdown",
   "metadata": {
    "nbsphinx-toctree": {
     "maxdepth": 3,
     "numbered": true
    }
   },
   "source": [
    "* [Definition](discrete_time_fourier_transform/definition.ipynb)\n",
    "* [Properties](discrete_time_fourier_transform/properties.ipynb)\n",
    "* [Theorems](discrete_time_fourier_transform/theorems.ipynb)\n",
    "* [Summary of Properties, Theorems and Transforms](discrete_time_fourier_transform/table_theorems_transforms.ipynb)"
   ]
  },
  {
   "cell_type": "markdown",
   "metadata": {},
   "source": [
    "# The Discrete Fourier Transform"
   ]
  },
  {
   "cell_type": "markdown",
   "metadata": {
    "nbsphinx-toctree": {
     "maxdepth": 3,
     "numbered": true
    }
   },
   "source": [
    "* [Definition](discrete_fourier_transform/definition.ipynb)\n",
    "* [Properties](discrete_fourier_transform/properties.ipynb)\n",
    "* [Theorems](discrete_fourier_transform/theorems.ipynb)\n",
    "* [Summary of Properties, Theorems and Transforms](discrete_fourier_transform/table_theorems_transforms.ipynb)\n",
    "* [The Fast Fourier Transform](discrete_fourier_transform/fast_fourier_transform.ipynb)\n",
    "* [Fast Convolution](discrete_fourier_transform/fast_convolution.ipynb)"
   ]
  },
  {
   "cell_type": "markdown",
   "metadata": {},
   "source": [
    "# The $z$-Transform"
   ]
  },
  {
   "cell_type": "markdown",
   "metadata": {
    "nbsphinx-toctree": {
     "maxdepth": 3,
     "numbered": true
    }
   },
   "source": [
    "* [Definition](z_transform/definition.ipynb)\n",
    "* [Properties](z_transform/properties.ipynb)\n",
    "* [Theorems](z_transform/theorems.ipynb)"
   ]
  },
  {
   "cell_type": "markdown",
   "metadata": {
    "nbsphinx": "hidden"
   },
   "source": [
    "**Notes**\n",
    "\n",
    "\"nbsphinx-toctree\": {\n",
    "     \"maxdepth\": 3,\n",
    "     \"numbered\": true\n",
    "    }\n",
    "    \n",
    "\"nbsphinx\": \"hidden\""
   ]
  }
 ],
 "metadata": {
  "celltoolbar": "Edit Metadata",
  "kernelspec": {
   "display_name": "Python 3",
   "language": "python",
   "name": "python3"
  },
  "language_info": {
   "codemirror_mode": {
    "name": "ipython",
    "version": 3
   },
   "file_extension": ".py",
   "mimetype": "text/x-python",
   "name": "python",
   "nbconvert_exporter": "python",
   "pygments_lexer": "ipython3",
   "version": "3.5.2"
  }
 },
 "nbformat": 4,
 "nbformat_minor": 1
}
