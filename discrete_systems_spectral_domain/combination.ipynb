{
 "cells": [
  {
   "cell_type": "markdown",
   "metadata": {
    "nbsphinx": "hidden"
   },
   "source": [
    "# Characterization of Discrete Systems in the Spectral Domain\n",
    "\n",
    "*This Jupyter notebook is part of a [collection of notebooks](../index.ipynb) in the bachelors module Signals and Systems, Communications Engineering, Universität Rostock. Please direct questions and suggestions to [Sascha.Spors@uni-rostock.de](mailto:Sascha.Spors@uni-rostock.de).*"
   ]
  },
  {
   "cell_type": "markdown",
   "metadata": {},
   "source": [
    "## Combination of Systems\n",
    "\n",
    "The representation of systems with a complex structure as combination of simpler systems is often convenient for their analysis or synthesis. This section discusses three of the most common combinations, the series and parallel connection of systems as well as feedback loops."
   ]
  },
  {
   "cell_type": "markdown",
   "metadata": {},
   "source": [
    "### Concatenation\n",
    "\n",
    "When two linear time-invariant (LTI) systems are combined in series by connecting the output of the first system to the input of a second system this is termed as *concatenation* of two systems. Denoting the impulse responses of the two systems by $h_1[k]$ and $h_2[k]$, the output signal $y[k]$ of the second system is given as\n",
    "\n",
    "\\begin{equation}\n",
    "y[k] =  x[k] * h_1[k] * h_2[k]\n",
    "\\end{equation}\n",
    "\n",
    "where $x[k]$ denotes the input signal of the first system. Applying a $z$-transform to the left- and right-hand side, and repeated application of the convolution theorem yields\n",
    "\n",
    "\\begin{equation}\n",
    "Y(z) = \\underbrace{H_1(z) \\cdot H_2(z)}_{H(z)} \\cdot X(z)\n",
    "\\end{equation}\n",
    "\n",
    "It can be concluded that the concatenation of two systems can be regarded as one LTI system with the transfer function $H(z) = H_1(z) \\cdot H_2(z)$. Hence, the following structures are equivalent\n",
    "\n",
    "![Concatenation of two systems](concatenation.png)\n",
    "\n",
    "The extension to a concatenation of $N$ systems is straightforward. The overall transfer function is given by multiplication of all the individual transfer functions $H_n(z)$\n",
    "\n",
    "\\begin{equation}\n",
    "H(z) = \\prod_{n=1}^{N} H_n(z)\n",
    "\\end{equation}\n",
    "\n",
    "Applications of concatenated systems include for instance the modeling of electroacoustic systems, wireless transmission systems and cascaded filters."
   ]
  },
  {
   "cell_type": "markdown",
   "metadata": {},
   "source": [
    "**Example - Concatenation of second-order sections**\n",
    "\n",
    "Concatenation of LTI systems can be used to construct higher-order filters from lower-order prototypes. Such filters are known as *cascaded filters*. In digital signal processing, typically second-order systems are used as building blocks for higher-order systems. These blocks are termed second-order sections or [biquad filters](https://en.wikipedia.org/wiki/Digital_biquad_filter).\n",
    "\n",
    "This is illustrated at the before introduced [second-order recursive LTI system](difference_equation.ipynb#Second-Order-System) with transfer function\n",
    "\n",
    "\\begin{equation}\n",
    "H_0(z) = \\frac{\\frac{1}{2}}{\\frac{1}{2} z^{-2} - z^{-1} + 1}\n",
    "\\end{equation}\n",
    "\n",
    "Note, the transfer function has been normalized for unit gain at $z = e^{j \\Omega} \\vert_{\\Omega = 0}$.\n",
    "Concatenation of $N$ second-order filters leads to a filter with order $2 N$. Its transfer function reads\n",
    "\n",
    "\\begin{equation}\n",
    "H_N(z) = \\left(\\frac{\\frac{1}{2}}{\\frac{1}{2} z^{-2} - z^{-1} + 1} \\right)^N\n",
    "\\end{equation}\n",
    "\n",
    "The resulting transfer function is illustrated by its logarithmic magnitude response for a varying number of cascaded filters. First the transfer function $H_N(s)$ is defined"
   ]
  },
  {
   "cell_type": "code",
   "execution_count": null,
   "metadata": {},
   "outputs": [],
   "source": [
    "import sympy as sym\n",
    "sym.init_printing()\n",
    "%matplotlib inline\n",
    "\n",
    "z = sym.symbols('z', complex=True)\n",
    "W = sym.symbols('Omega', real=True)\n",
    "N = sym.symbols('N', integer=True)\n",
    "\n",
    "H0 = sym.Rational(1, 2) / (sym.Rational(1, 2)*z**(-2) - z**(-1) + 1)\n",
    "HN = H0**N\n",
    "HN"
   ]
  },
  {
   "cell_type": "markdown",
   "metadata": {},
   "source": [
    "The magnitude $|H_N(e^{j \\Omega})|$ of the transfer function is shown for $N = \\{1, 2, 3\\}$ (red, green, blue line)"
   ]
  },
  {
   "cell_type": "code",
   "execution_count": null,
   "metadata": {},
   "outputs": [],
   "source": [
    "HNa = 20*sym.log(sym.Abs(HN.subs(z, sym.exp(sym.I*W))))\n",
    "\n",
    "p1 = sym.plot(HNa.subs(N, 1), (W, -sym.pi, sym.pi), xlabel='$\\Omega$', ylabel='$| H_n(e^{j \\Omega}) |$ in dB', line_color='r', show=False);\n",
    "p2 = sym.plot(HNa.subs(N, 2), (W, -sym.pi, sym.pi), xlabel='$\\Omega$', ylabel='$| H_n(e^{j \\Omega}) |$ in dB', line_color='g', show=False);\n",
    "p3 = sym.plot(HNa.subs(N, 3), (W, -sym.pi, sym.pi), xlabel='$\\Omega$', ylabel='$| H_n(e^{j \\Omega}) |$ in dB', line_color='b', show=False);\n",
    "p1.extend(p2)\n",
    "p1.extend(p3)\n",
    "p1.show()"
   ]
  },
  {
   "cell_type": "markdown",
   "metadata": {},
   "source": [
    "**Exercise**\n",
    "\n",
    "* Compute the magnitude $|H_N(z)|$ and phase $\\varphi(z)$ of the concatenated system.\n",
    "* Using the result from the first exercise, how will the phase of the cascaded filter develop for an increasing number $N$ of cascaded filters?"
   ]
  },
  {
   "cell_type": "markdown",
   "metadata": {
    "collapsed": true
   },
   "source": [
    "### Parallel Connection\n",
    "\n",
    "A structure where two LTI systems share the same input signal and their output signals are superimposed is called *parallel connection*. The overall output signal $y[k]$ is given as the superposition of the output signals of the individual systems\n",
    "\n",
    "\\begin{equation}\n",
    "y[k] = h_1[k] * x[k] + h_2[k] * x[k]\n",
    "\\end{equation}\n",
    "\n",
    "Applying a $z$-transform to the left- and right-hand side, exploiting the superposition principle, and convolution theorem yields\n",
    "\n",
    "\\begin{equation}\n",
    "Y(z) = \\underbrace{\\left( H_1(z) + H_2(z)  \\right)}_{H(z)} \\cdot X(z)\n",
    "\\end{equation}\n",
    "\n",
    "The overall transfer function $H(z)$ of a parallel connection of two systems is given as the superposition of the transfer functions of the individual systems. Hence, the following structures are equivalent\n",
    "\n",
    "![Parallel connection of two systems](parallel.png)\n",
    "\n",
    "The extension to a parallel connection of $N$ systems is straightforward. The overall transfer function is given by superposition of all individual transfer functions $H_n(z)$\n",
    "\n",
    "\\begin{equation}\n",
    "H(z) = \\sum_{n=1}^{N} H_n(z)\n",
    "\\end{equation}\n",
    "\n",
    "A prominent application of a parallel connection of systems are [filter banks](https://en.wikipedia.org/wiki/Filter_bank) as used in signal analysis and many lossy coding schemes."
   ]
  },
  {
   "cell_type": "markdown",
   "metadata": {
    "collapsed": true
   },
   "source": [
    "### Feedback\n",
    "\n",
    "The connection of two LTI systems, where the input of the second system is connected to the output of the first and the output of the second system is superimposed to the input of the first is called *feedback loop*. This structure is depicted in the following illustration (upper block diagram)\n",
    "\n",
    "![Two systems combined in a feedback loop](feedback.png)\n",
    "\n",
    "The output signal $y[k]$ is given as\n",
    "\n",
    "\\begin{equation}\n",
    "y[k] = x[k] * h_1[k] + y[k] * h_2[k] * h_1[k]\n",
    "\\end{equation}\n",
    "\n",
    "Applying a $z$-transform to the left- and right-hand side, exploiting the superposition principle and the convolution theorem, and rearrangement of terms yields\n",
    "\n",
    "\\begin{equation}\n",
    "Y(z) = \\frac{H_1(z)}{1 - H_1(z) \\cdot H_2(z)} \\cdot X(z)\n",
    "\\end{equation}\n",
    "\n",
    "The overall transfer function $H(z)$ of the feedback loop is then given as \n",
    "\n",
    "\\begin{equation}\n",
    "H(z) = \\frac{H_1(z)}{1 - H_1(z) \\cdot H_2(z)}\n",
    "\\end{equation}\n",
    "\n",
    "This equivalence is depicted by the lower block diagram of above structure. Applications of feedback loops include [digital control systems](https://en.wikipedia.org/wiki/Control_system)."
   ]
  },
  {
   "cell_type": "markdown",
   "metadata": {
    "nbsphinx": "hidden"
   },
   "source": [
    "**Copyright**\n",
    "\n",
    "The notebooks are provided as [Open Educational Resource](https://de.wikipedia.org/wiki/Open_Educational_Resources). Feel free to use the notebooks for your own educational purposes. The text is licensed under [Creative Commons Attribution 4.0](https://creativecommons.org/licenses/by/4.0/), the code of the IPython examples under the [MIT license](https://opensource.org/licenses/MIT). Please attribute the work as follows: *Lecture Notes on Signals and Systems* by Sascha Spors."
   ]
  }
 ],
 "metadata": {
  "kernelspec": {
   "display_name": "Python 3",
   "language": "python",
   "name": "python3"
  },
  "language_info": {
   "codemirror_mode": {
    "name": "ipython",
    "version": 3
   },
   "file_extension": ".py",
   "mimetype": "text/x-python",
   "name": "python",
   "nbconvert_exporter": "python",
   "pygments_lexer": "ipython3",
   "version": "3.7.2"
  }
 },
 "nbformat": 4,
 "nbformat_minor": 1
}
